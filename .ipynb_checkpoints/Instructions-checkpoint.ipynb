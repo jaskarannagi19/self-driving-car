{
 "cells": [
  {
   "cell_type": "markdown",
   "metadata": {},
   "source": [
    "# Instructions to Run Self Driving Project (Behavioural Cloning based on Udacity Simulator)"
   ]
  },
  {
   "cell_type": "markdown",
   "metadata": {},
   "source": [
    "# Prerequisites\n",
    "1. Udacity Simlulator\n",
    "2. Self Driving Behavioural Code"
   ]
  },
  {
   "attachments": {},
   "cell_type": "markdown",
   "metadata": {},
   "source": [
    "# Installing Simulator \n",
    "Go to this link https://github.com/udacity/self-driving-car-sim and download a copy of your simulator on to your system depending upon the platform (windows mac or linux)\n",
    "<br/>Download Precompiled build from above source Version2 and just launch the executable file to open the simulator. <br/> Make sure you made this file executable before running it else it won't run.This should look like this:\n",
    "![caption](screens/2.png) <br/>\n"
   ]
  },
  {
   "cell_type": "markdown",
   "metadata": {},
   "source": [
    "# Download the self driving code from GitHub repo\n",
    "from https://github.com/jaskarannagi19/self-driving-car\n",
    "And Launch terminal and run the following command:\n",
    "\n",
    "#TensorFlow without GPU\n",
    "<br><b>conda env create -f environments.yml</b></br> \n",
    "\n",
    "You must have anaconda installed before moving forward.\n",
    "\n",
    "There is environments.yml file inside the code which setups and install the necessary dependencies for the project in the virtual environment called car-behavioral-cloning\n"
   ]
  },
  {
   "cell_type": "markdown",
   "metadata": {},
   "source": [
    "Use the following command to activate your environment:<br/>\n",
    "<b>source activate car-behavioral-cloning</b><br/>\n",
    "Now you are good to go"
   ]
  },
  {
   "cell_type": "markdown",
   "metadata": {},
   "source": [
    "Start up the Udacity self-driving simulator, choose a scene and press the Autonomous Mode button. Then, run the model as follows:\n",
    "\n",
    "<b>python drive.py model.h5</b>\n",
    "\n",
    "To train the model\n",
    "\n",
    "You'll need the <b>data</b> folder which contains the training images. <u><b>Save image to data folder in same directory else you would not be able to run training..</b></u>\n",
    "\n",
    "<b>python model.py</b>\n",
    "\n",
    "This will generate a file model-<epoch>.h5 whenever the performance in the epoch is better than the previous best. For example, the first epoch will generate a file called model-000.h5."
   ]
  },
  {
   "cell_type": "code",
   "execution_count": null,
   "metadata": {},
   "outputs": [],
   "source": []
  },
  {
   "cell_type": "code",
   "execution_count": null,
   "metadata": {},
   "outputs": [],
   "source": []
  }
 ],
 "metadata": {
  "kernelspec": {
   "display_name": "Python 3",
   "language": "python",
   "name": "python3"
  },
  "language_info": {
   "codemirror_mode": {
    "name": "ipython",
    "version": 3
   },
   "file_extension": ".py",
   "mimetype": "text/x-python",
   "name": "python",
   "nbconvert_exporter": "python",
   "pygments_lexer": "ipython3",
   "version": "3.6.5"
  }
 },
 "nbformat": 4,
 "nbformat_minor": 2
}
